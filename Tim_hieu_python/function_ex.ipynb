{
 "cells": [
  {
   "cell_type": "code",
   "execution_count": 1,
   "id": "4c0621d9",
   "metadata": {},
   "outputs": [],
   "source": [
    "#Vi du bai tap kiem tra so hoan thien\n",
    "#So hoan thien la so co tong uoc bang chinh no\n",
    "#Dinh nghia ham tong uoc\n",
    "\n",
    "def tongUoc(n):\n",
    "    s=0\n",
    "    for i in range(1,n):\n",
    "        if n%i==0:\n",
    "            s=s+i\n",
    "    return s"
   ]
  },
  {
   "cell_type": "code",
   "execution_count": 2,
   "id": "98b2e053",
   "metadata": {},
   "outputs": [],
   "source": [
    "#Dinh nghia ham kiem tra so hoan thien\n",
    "def check(n):\n",
    "    if tongUoc(n)==n:\n",
    "        return \"{0} là số hoàn thiện\".format(n)\n",
    "    return \"{0} không phải là số hoàn thiện\".format(n)\n"
   ]
  },
  {
   "cell_type": "code",
   "execution_count": 3,
   "id": "8aa2ec34",
   "metadata": {},
   "outputs": [
    {
     "name": "stdout",
     "output_type": "stream",
     "text": [
      "Nhập n: 15\n",
      "Tổng các ước của 15 là: 9\n",
      "15 không phải là số hoàn thiện\n"
     ]
    }
   ],
   "source": [
    "n=int(input(\"Nhập n: \"))\n",
    "print(\"Tổng các ước của {0} là: {1}\".format(n,tongUoc(n)))\n",
    "print(check(n)) #goi ham kiem tra "
   ]
  },
  {
   "cell_type": "code",
   "execution_count": null,
   "id": "e8ce1697",
   "metadata": {},
   "outputs": [],
   "source": []
  }
 ],
 "metadata": {
  "kernelspec": {
   "display_name": "Python 3 (ipykernel)",
   "language": "python",
   "name": "python3"
  },
  "language_info": {
   "codemirror_mode": {
    "name": "ipython",
    "version": 3
   },
   "file_extension": ".py",
   "mimetype": "text/x-python",
   "name": "python",
   "nbconvert_exporter": "python",
   "pygments_lexer": "ipython3",
   "version": "3.9.10"
  }
 },
 "nbformat": 4,
 "nbformat_minor": 5
}
