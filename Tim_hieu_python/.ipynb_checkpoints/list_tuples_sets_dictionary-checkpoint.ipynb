{
 "cells": [
  {
   "cell_type": "code",
   "execution_count": 1,
   "id": "8e5d80b7",
   "metadata": {},
   "outputs": [
    {
     "name": "stdout",
     "output_type": "stream",
     "text": [
      "['C/C++', 'python', 'Embedded', 'AI']\n"
     ]
    }
   ],
   "source": [
    "#List\n",
    "list = [\"C/C++\", \"python\", \"Embedded\", \"AI\"]\n",
    "print(list)"
   ]
  },
  {
   "cell_type": "code",
   "execution_count": 2,
   "id": "25d9a694",
   "metadata": {},
   "outputs": [
    {
     "name": "stdout",
     "output_type": "stream",
     "text": [
      "('C/C++', 'python', 'Embedded', 'AI')\n"
     ]
    }
   ],
   "source": [
    "#Tuples\n",
    "tuples = (\"C/C++\", \"python\", \"Embedded\", \"AI\")\n",
    "print(tuples)"
   ]
  },
  {
   "cell_type": "code",
   "execution_count": 3,
   "id": "d5427d10",
   "metadata": {},
   "outputs": [
    {
     "name": "stdout",
     "output_type": "stream",
     "text": [
      "{'python', 'Embedded', 'AI', 'C/C++'}\n"
     ]
    }
   ],
   "source": [
    "#set\n",
    "set = {\"C/C++\", \"python\", \"Embedded\", \"AI\"}\n",
    "print(set)"
   ]
  },
  {
   "cell_type": "code",
   "execution_count": 4,
   "id": "10aede55",
   "metadata": {},
   "outputs": [
    {
     "name": "stdout",
     "output_type": "stream",
     "text": [
      "{'brand': 'Mercedes', 'model': 'pro', 'year': 2020}\n"
     ]
    }
   ],
   "source": [
    "#Dictionary\n",
    "thisdict =\t{\n",
    "  \"brand\": \"Mercedes\",\n",
    "  \"model\": \"pro\",\n",
    "  \"year\": 2020\n",
    "}\n",
    "print(thisdict)"
   ]
  },
  {
   "cell_type": "code",
   "execution_count": null,
   "id": "3fce6cc1",
   "metadata": {},
   "outputs": [],
   "source": []
  }
 ],
 "metadata": {
  "kernelspec": {
   "display_name": "Python 3 (ipykernel)",
   "language": "python",
   "name": "python3"
  },
  "language_info": {
   "codemirror_mode": {
    "name": "ipython",
    "version": 3
   },
   "file_extension": ".py",
   "mimetype": "text/x-python",
   "name": "python",
   "nbconvert_exporter": "python",
   "pygments_lexer": "ipython3",
   "version": "3.9.10"
  }
 },
 "nbformat": 4,
 "nbformat_minor": 5
}
