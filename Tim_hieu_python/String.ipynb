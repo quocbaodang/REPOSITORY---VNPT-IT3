{
 "cells": [
  {
   "cell_type": "code",
   "execution_count": 1,
   "id": "801e1539",
   "metadata": {},
   "outputs": [],
   "source": [
    "a = \"Hello VNPT-IT3\""
   ]
  },
  {
   "cell_type": "code",
   "execution_count": 2,
   "id": "7e830eb9",
   "metadata": {},
   "outputs": [
    {
     "name": "stdout",
     "output_type": "stream",
     "text": [
      "14\n"
     ]
    }
   ],
   "source": [
    "print(len(a)) #Lay chieu dai mot chuoi"
   ]
  },
  {
   "cell_type": "code",
   "execution_count": 3,
   "id": "8bacf243",
   "metadata": {},
   "outputs": [
    {
     "name": "stdout",
     "output_type": "stream",
     "text": [
      "l\n"
     ]
    }
   ],
   "source": [
    "print(a[2]) # Lay chu o vi tri 2 trong chuoi"
   ]
  },
  {
   "cell_type": "code",
   "execution_count": 4,
   "id": "feef9f9b",
   "metadata": {},
   "outputs": [
    {
     "name": "stdout",
     "output_type": "stream",
     "text": [
      "HELLO VNPT-IT3\n"
     ]
    }
   ],
   "source": [
    "print(a.upper()) #in hoa toan bo chuoi"
   ]
  },
  {
   "cell_type": "code",
   "execution_count": 5,
   "id": "614ac787",
   "metadata": {},
   "outputs": [
    {
     "name": "stdout",
     "output_type": "stream",
     "text": [
      "hello vnpt-it3\n"
     ]
    }
   ],
   "source": [
    "print(a.lower()) #in thuong toan bo chuoi"
   ]
  },
  {
   "cell_type": "code",
   "execution_count": 11,
   "id": "14488103",
   "metadata": {
    "scrolled": true
   },
   "outputs": [
    {
     "data": {
      "text/plain": [
       "4"
      ]
     },
     "execution_count": 11,
     "metadata": {},
     "output_type": "execute_result"
    }
   ],
   "source": [
    "a.find(\"o\") #Tim kiem mot phan tu trong chuoi"
   ]
  },
  {
   "cell_type": "code",
   "execution_count": 13,
   "id": "d6f8d204",
   "metadata": {},
   "outputs": [
    {
     "data": {
      "text/plain": [
       "True"
      ]
     },
     "execution_count": 13,
     "metadata": {},
     "output_type": "execute_result"
    }
   ],
   "source": [
    "'VNPT' in a #Kiem tra tu co trong chuoi khong"
   ]
  },
  {
   "cell_type": "code",
   "execution_count": 14,
   "id": "221eac3f",
   "metadata": {},
   "outputs": [
    {
     "data": {
      "text/plain": [
       "'Hi VNPT-IT3'"
      ]
     },
     "execution_count": 14,
     "metadata": {},
     "output_type": "execute_result"
    }
   ],
   "source": [
    "a.replace(\"Hello\", \"Hi\") #Thay the chuoi"
   ]
  },
  {
   "cell_type": "code",
   "execution_count": 15,
   "id": "a2270cd3",
   "metadata": {},
   "outputs": [
    {
     "name": "stdout",
     "output_type": "stream",
     "text": [
      "['Hello', 'VNPT-IT3']\n"
     ]
    }
   ],
   "source": [
    "print(a.split()) #Cat chuoi dua theo khoang trang"
   ]
  },
  {
   "cell_type": "code",
   "execution_count": null,
   "id": "d0d818c0",
   "metadata": {},
   "outputs": [],
   "source": []
  }
 ],
 "metadata": {
  "kernelspec": {
   "display_name": "Python 3 (ipykernel)",
   "language": "python",
   "name": "python3"
  },
  "language_info": {
   "codemirror_mode": {
    "name": "ipython",
    "version": 3
   },
   "file_extension": ".py",
   "mimetype": "text/x-python",
   "name": "python",
   "nbconvert_exporter": "python",
   "pygments_lexer": "ipython3",
   "version": "3.9.10"
  }
 },
 "nbformat": 4,
 "nbformat_minor": 5
}
